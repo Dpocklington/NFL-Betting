{
 "cells": [
  {
   "cell_type": "code",
   "execution_count": 169,
   "id": "653dd736",
   "metadata": {},
   "outputs": [],
   "source": [
    "import pandas as pd\n",
    "import numpy as np\n",
    "import tensorflow as tf\n",
    "from tensorflow.keras.layers import LSTM, Dense\n",
    "from sklearn.model_selection import train_test_split, TimeSeriesSplit\n",
    "from sklearn.preprocessing import OneHotEncoder, StandardScaler\n",
    "import torch\n",
    "import matplotlib.pyplot as plt"
   ]
  },
  {
   "cell_type": "markdown",
   "id": "702e8205",
   "metadata": {},
   "source": [
    "### Read in data"
   ]
  },
  {
   "cell_type": "code",
   "execution_count": 170,
   "id": "1d361739",
   "metadata": {},
   "outputs": [
    {
     "name": "stderr",
     "output_type": "stream",
     "text": [
      "C:\\Users\\Laptop\\AppData\\Local\\Temp\\ipykernel_4360\\3271149568.py:1: DtypeWarning: Columns (42,167,168,175,176,179,180,183,184,189,190,191,192,204,205,206,232,233,234,239,241,242) have mixed types. Specify dtype option on import or set low_memory=False.\n",
      "  data2009 = pd.read_csv(\"https://raw.githubusercontent.com/Dpocklington/NFL-Betting/main/reg_pbp_2009.csv\")\n",
      "C:\\Users\\Laptop\\AppData\\Local\\Temp\\ipykernel_4360\\3271149568.py:2: DtypeWarning: Columns (42,167,168,169,170,175,176,179,180,183,184,189,190,191,192,195,196,204,205,206,219,220,221,232,233,234,239,241,242) have mixed types. Specify dtype option on import or set low_memory=False.\n",
      "  data2010 = pd.read_csv(\"https://raw.githubusercontent.com/Dpocklington/NFL-Betting/main/reg_pbp_2010.csv\")\n",
      "C:\\Users\\Laptop\\AppData\\Local\\Temp\\ipykernel_4360\\3271149568.py:3: DtypeWarning: Columns (37,38,39,42,46,47,167,168,169,170,173,174,175,176,177,178,179,180,183,184,185,186,189,190,191,192,193,194,195,196,199,200,204,205,206,225,226,227,228,232,233,234,239,241,242,245,246,247,250,251) have mixed types. Specify dtype option on import or set low_memory=False.\n",
      "  data2011 = pd.read_csv(\"https://raw.githubusercontent.com/Dpocklington/NFL-Betting/main/reg_pbp_2011.csv\")\n",
      "C:\\Users\\Laptop\\AppData\\Local\\Temp\\ipykernel_4360\\3271149568.py:4: DtypeWarning: Columns (42,167,168,169,170,175,176,179,180,183,184,189,190,191,192,199,200,204,205,206,227,228,232,233,234,239,241,242,250) have mixed types. Specify dtype option on import or set low_memory=False.\n",
      "  data2012 = pd.read_csv(\"https://raw.githubusercontent.com/Dpocklington/NFL-Betting/main/reg_pbp_2012.csv\")\n",
      "C:\\Users\\Laptop\\AppData\\Local\\Temp\\ipykernel_4360\\3271149568.py:5: DtypeWarning: Columns (167,168,169,170,179,180,183,184,189,190,191,192,195,196,199,200,204,205,206,227,228,232,233,234,239,241,242,250) have mixed types. Specify dtype option on import or set low_memory=False.\n",
      "  data2013 = pd.read_csv(\"https://raw.githubusercontent.com/Dpocklington/NFL-Betting/main/reg_pbp_2013.csv\")\n",
      "C:\\Users\\Laptop\\AppData\\Local\\Temp\\ipykernel_4360\\3271149568.py:6: DtypeWarning: Columns (42,167,168,169,170,175,176,179,180,183,184,189,190,191,192,204,205,206,227,228,232,233,234,239,241,242) have mixed types. Specify dtype option on import or set low_memory=False.\n",
      "  data2014 = pd.read_csv(\"https://raw.githubusercontent.com/Dpocklington/NFL-Betting/main/reg_pbp_2014.csv\")\n",
      "C:\\Users\\Laptop\\AppData\\Local\\Temp\\ipykernel_4360\\3271149568.py:7: DtypeWarning: Columns (42,167,168,175,176,179,180,183,184,189,190,191,192,204,205,206,227,228,232,233,234,239,241,242) have mixed types. Specify dtype option on import or set low_memory=False.\n",
      "  data2015 = pd.read_csv(\"https://raw.githubusercontent.com/Dpocklington/NFL-Betting/main/reg_pbp_2015.csv\")\n"
     ]
    }
   ],
   "source": [
    "data2009 = pd.read_csv(\"https://raw.githubusercontent.com/Dpocklington/NFL-Betting/main/reg_pbp_2009.csv\")\n",
    "data2010 = pd.read_csv(\"https://raw.githubusercontent.com/Dpocklington/NFL-Betting/main/reg_pbp_2010.csv\")\n",
    "data2011 = pd.read_csv(\"https://raw.githubusercontent.com/Dpocklington/NFL-Betting/main/reg_pbp_2011.csv\")\n",
    "data2012 = pd.read_csv(\"https://raw.githubusercontent.com/Dpocklington/NFL-Betting/main/reg_pbp_2012.csv\")\n",
    "data2013 = pd.read_csv(\"https://raw.githubusercontent.com/Dpocklington/NFL-Betting/main/reg_pbp_2013.csv\")\n",
    "data2014 = pd.read_csv(\"https://raw.githubusercontent.com/Dpocklington/NFL-Betting/main/reg_pbp_2014.csv\")\n",
    "data2015 = pd.read_csv(\"https://raw.githubusercontent.com/Dpocklington/NFL-Betting/main/reg_pbp_2015.csv\")\n",
    "# data2016 = pd.read_csv(\"https://raw.githubusercontent.com/Dpocklington/NFL-Betting/main/reg_pbp_2016.csv\")\n",
    "# data2017 = pd.read_csv(\"https://raw.githubusercontent.com/Dpocklington/NFL-Betting/main/reg_pbp_2017.csv\")\n",
    "# data2018 = pd.read_csv(\"https://raw.githubusercontent.com/Dpocklington/NFL-Betting/main/reg_pbp_2018.csv\")\n",
    "# data2019 = pd.read_csv(\"https://raw.githubusercontent.com/Dpocklington/NFL-Betting/main/reg_pbp_2019.csv\")"
   ]
  },
  {
   "cell_type": "code",
   "execution_count": 171,
   "id": "39beccde",
   "metadata": {
    "scrolled": false
   },
   "outputs": [
    {
     "name": "stderr",
     "output_type": "stream",
     "text": [
      "C:\\Users\\Laptop\\AppData\\Local\\Temp\\ipykernel_4360\\3244673017.py:1: FutureWarning: The frame.append method is deprecated and will be removed from pandas in a future version. Use pandas.concat instead.\n",
      "  data = data2009.append(data2010)\n",
      "C:\\Users\\Laptop\\AppData\\Local\\Temp\\ipykernel_4360\\3244673017.py:2: FutureWarning: The frame.append method is deprecated and will be removed from pandas in a future version. Use pandas.concat instead.\n",
      "  data = data.append(data2011)\n",
      "C:\\Users\\Laptop\\AppData\\Local\\Temp\\ipykernel_4360\\3244673017.py:3: FutureWarning: The frame.append method is deprecated and will be removed from pandas in a future version. Use pandas.concat instead.\n",
      "  data = data.append(data2012)\n",
      "C:\\Users\\Laptop\\AppData\\Local\\Temp\\ipykernel_4360\\3244673017.py:4: FutureWarning: The frame.append method is deprecated and will be removed from pandas in a future version. Use pandas.concat instead.\n",
      "  data = data.append(data2013)\n",
      "C:\\Users\\Laptop\\AppData\\Local\\Temp\\ipykernel_4360\\3244673017.py:5: FutureWarning: The frame.append method is deprecated and will be removed from pandas in a future version. Use pandas.concat instead.\n",
      "  data = data.append(data2014)\n"
     ]
    }
   ],
   "source": [
    "data = data2009.append(data2010)\n",
    "data = data.append(data2011)\n",
    "data = data.append(data2012)\n",
    "data = data.append(data2013)\n",
    "data = data.append(data2014)\n",
    "# data = data.append(data2015)\n",
    "# data = data.append(data2016)\n",
    "# data = data.append(data2017)\n",
    "# data = data.append(data2018)\n",
    "# data = data.append(data2019)"
   ]
  },
  {
   "cell_type": "markdown",
   "id": "9960b979",
   "metadata": {},
   "source": [
    "### Preprocessing and Creating Final Score Outcome Variable"
   ]
  },
  {
   "cell_type": "code",
   "execution_count": 172,
   "id": "2c8a3c0d",
   "metadata": {},
   "outputs": [],
   "source": [
    "def preprocessing(data):\n",
    "    # Create a new column called 'final_score' and initialize it with NaN values\n",
    "    data['home_final_score'] = float('nan')\n",
    "    data['away_final_score'] = float('nan')\n",
    "\n",
    "    # Loop through each game in the data\n",
    "    for game_id in data['game_id'].unique():\n",
    "        # Get the subset of data for the current game\n",
    "        game_df = data[data['game_id'] == game_id]\n",
    "\n",
    "        # Get the final score for the game (which should be the score of the last observation)\n",
    "        home_final_score = game_df.iloc[-1]['total_home_score']\n",
    "        away_final_score = game_df.iloc[-1]['total_away_score']\n",
    "\n",
    "        # Set the 'final_score' column for all rows in this game to be the final score\n",
    "        data.loc[data['game_id'] == game_id, 'home_final_score'] = home_final_score\n",
    "        data.loc[data['game_id'] == game_id, 'away_final_score'] = away_final_score\n",
    "        \n",
    "    data['home_differential'] = data['home_final_score']-data['away_final_score']\n",
    "    \n",
    "    data = data[['game_id','home_team', 'away_team', 'posteam_type', 'yardline_100', 'quarter_seconds_remaining', \n",
    "                     'half_seconds_remaining', 'game_seconds_remaining', 'drive', 'down', 'ydstogo', 'no_huddle', \n",
    "                     'home_timeouts_remaining', 'away_timeouts_remaining', 'score_differential_post', \n",
    "                     'total_home_rush_epa','total_away_rush_epa', 'total_home_pass_epa','total_away_pass_epa',\n",
    "                     'score_differential_post', 'total_home_score', 'total_away_score', 'home_differential']]\n",
    "\n",
    "    data = data.dropna()\n",
    "    \n",
    "    data['home_team'] = data['home_team'].astype(str)\n",
    "    data['away_team'] = data['away_team'].astype(str)\n",
    "    data['posteam_type'] = data['posteam_type'].astype(str)\n",
    "    \n",
    "    df = data\n",
    "\n",
    "    categorical_vars = ['home_team', 'away_team', 'posteam_type', 'no_huddle']\n",
    "    numerical_vars = ['yardline_100', 'quarter_seconds_remaining', 'half_seconds_remaining', 'game_seconds_remaining',\n",
    "                  'drive', 'down', 'ydstogo', 'home_timeouts_remaining', 'away_timeouts_remaining',\n",
    "                  'score_differential_post', 'total_home_rush_epa', 'total_away_rush_epa', 'total_home_pass_epa',\n",
    "                  'total_away_pass_epa', 'total_home_score', 'total_away_score']\n",
    "\n",
    "    # One-hot encode the categorical variables\n",
    "    ohe = OneHotEncoder(sparse=False)\n",
    "    categorical_data = ohe.fit_transform(df[categorical_vars])\n",
    "\n",
    "    # Standardize the numerical variables\n",
    "    scaler = StandardScaler()\n",
    "    numerical_data = scaler.fit_transform(df[numerical_vars])\n",
    "\n",
    "    # Combine the categorical and numerical data into a single array\n",
    "    X = np.concatenate((categorical_data, numerical_data), axis=1)\n",
    "    X = np.asarray(X).astype('float32')\n",
    "\n",
    "    # Split the data into training and testing sets\n",
    "    y = df['home_differential']\n",
    "    return X, y"
   ]
  },
  {
   "cell_type": "markdown",
   "id": "2a61524e",
   "metadata": {},
   "source": [
    "### Create Subset of halftime plays"
   ]
  },
  {
   "cell_type": "code",
   "execution_count": 173,
   "id": "87cfba8f",
   "metadata": {},
   "outputs": [],
   "source": [
    "testing = data2012\n",
    "half_time = testing[(testing['game_seconds_remaining'] > 1800) & (testing['game_seconds_remaining'] < 1810)]\n",
    "training = data"
   ]
  },
  {
   "cell_type": "markdown",
   "id": "a4507987",
   "metadata": {},
   "source": [
    "### Create Training and testing data"
   ]
  },
  {
   "cell_type": "code",
   "execution_count": 174,
   "id": "e66b1b4f",
   "metadata": {
    "scrolled": true
   },
   "outputs": [
    {
     "name": "stderr",
     "output_type": "stream",
     "text": [
      "C:\\Users\\Laptop\\AppData\\Local\\Temp\\ipykernel_4360\\3344466308.py:3: SettingWithCopyWarning: \n",
      "A value is trying to be set on a copy of a slice from a DataFrame.\n",
      "Try using .loc[row_indexer,col_indexer] = value instead\n",
      "\n",
      "See the caveats in the documentation: https://pandas.pydata.org/pandas-docs/stable/user_guide/indexing.html#returning-a-view-versus-a-copy\n",
      "  data['home_final_score'] = float('nan')\n",
      "C:\\Users\\Laptop\\AppData\\Local\\Temp\\ipykernel_4360\\3344466308.py:4: SettingWithCopyWarning: \n",
      "A value is trying to be set on a copy of a slice from a DataFrame.\n",
      "Try using .loc[row_indexer,col_indexer] = value instead\n",
      "\n",
      "See the caveats in the documentation: https://pandas.pydata.org/pandas-docs/stable/user_guide/indexing.html#returning-a-view-versus-a-copy\n",
      "  data['away_final_score'] = float('nan')\n",
      "C:\\Users\\Laptop\\AppData\\Local\\Temp\\ipykernel_4360\\3344466308.py:19: SettingWithCopyWarning: \n",
      "A value is trying to be set on a copy of a slice from a DataFrame.\n",
      "Try using .loc[row_indexer,col_indexer] = value instead\n",
      "\n",
      "See the caveats in the documentation: https://pandas.pydata.org/pandas-docs/stable/user_guide/indexing.html#returning-a-view-versus-a-copy\n",
      "  data['home_differential'] = data['home_final_score']-data['away_final_score']\n"
     ]
    }
   ],
   "source": [
    "X_test_half, y_test_half = preprocessing(half_time)\n",
    "X_test_full, y_test_full = preprocessing(testing)\n",
    "X_train, y_train = preprocessing(training)"
   ]
  },
  {
   "cell_type": "markdown",
   "id": "b0cf91d3",
   "metadata": {},
   "source": [
    "### Define network architecture"
   ]
  },
  {
   "cell_type": "code",
   "execution_count": 175,
   "id": "5a30b592",
   "metadata": {},
   "outputs": [
    {
     "name": "stdout",
     "output_type": "stream",
     "text": [
      "Epoch 1/5\n",
      "1496/1496 [==============================] - 36s 17ms/step - loss: 110.4245\n",
      "Epoch 2/5\n",
      "1496/1496 [==============================] - 33s 22ms/step - loss: 84.7839\n",
      "Epoch 3/5\n",
      "1496/1496 [==============================] - 32s 22ms/step - loss: 76.9671\n",
      "Epoch 4/5\n",
      "1496/1496 [==============================] - 33s 22ms/step - loss: 70.0677\n",
      "Epoch 5/5\n",
      "1496/1496 [==============================] - 30s 20ms/step - loss: 68.1235\n",
      "6/6 [==============================] - 6s 6ms/step - loss: 51.9749\n",
      "1210/1210 [==============================] - 5s 4ms/step - loss: 62.9919\n",
      "Root Mean Squared Error Half: 7.209359803367707\n",
      "Root Mean Squared Error Full: 7.936743272168412\n"
     ]
    }
   ],
   "source": [
    "# Reshape the data to be 3D with the number of time steps (i.e., plays)\n",
    "n_time_steps = 1\n",
    "n_features = X_train.shape[1]\n",
    "X_train = X_train.reshape((X_train.shape[0], 1,  X_train.shape[1]))\n",
    "X_test_half = X_test_half.reshape((X_test_half.shape[0], 1, X_test_half.shape[1]))\n",
    "X_test_full = X_test_full.reshape((X_test_full.shape[0], 1, X_test_full.shape[1]))\n",
    "# X_test_q1 = X_test_q1.reshape((X_test_q1.shape[0], 1, X_test_q1.shape[1]))\n",
    "# X_test_q3 = X_test_q3.reshape((X_test_q3.shape[0], 1, X_test_q3.shape[1]))\n",
    "\n",
    "\n",
    "# Define the LSTM model\n",
    "\n",
    "model = tf.keras.Sequential([\n",
    "    LSTM(128, return_sequences = True, input_shape=(n_time_steps, n_features)),\n",
    "    LSTM(64, return_sequences = True),\n",
    "    LSTM(32, return_sequences = True),\n",
    "    LSTM(16, return_sequences = True),\n",
    "    LSTM(8, return_sequences = True),\n",
    "    Dense(1)\n",
    "])\n",
    "\n",
    "\n",
    "optimize = tf.keras.optimizers.Adam(learning_rate=0.05)\n",
    "# Compile the model\n",
    "model.compile(loss='mean_squared_error', optimizer=optimize)\n",
    "\n",
    "# Train the model\n",
    "model.fit(X_train, y_train, epochs=5, batch_size=154)\n",
    "\n",
    "# Evaluate the model on the testing data\n",
    "rmse_half = np.sqrt(model.evaluate(X_test_half, y_test_half))\n",
    "rmse_full = np.sqrt(model.evaluate(X_test_full, y_test_full))\n",
    "\n",
    "print(f\"Root Mean Squared Error Half: {rmse_half}\")\n",
    "print(f\"Root Mean Squared Error Full: {rmse_full}\")"
   ]
  },
  {
   "cell_type": "code",
   "execution_count": 176,
   "id": "63e9108c",
   "metadata": {},
   "outputs": [
    {
     "name": "stdout",
     "output_type": "stream",
     "text": [
      "6/6 [==============================] - 2s 6ms/step\n",
      "1210/1210 [==============================] - 7s 5ms/step\n"
     ]
    }
   ],
   "source": [
    "preds_half = model.predict(X_test_half)\n",
    "preds_full = model.predict(X_test_full)\n",
    "x_half = np.linspace(0,100,100)\n",
    "x_full = np.linspace(0, 750, 750)"
   ]
  },
  {
   "cell_type": "code",
   "execution_count": 177,
   "id": "5ebfed18",
   "metadata": {},
   "outputs": [
    {
     "ename": "ValueError",
     "evalue": "x and y can be no greater than 2D, but have shapes (100,) and (100, 1, 1)",
     "output_type": "error",
     "traceback": [
      "\u001b[1;31m---------------------------------------------------------------------------\u001b[0m",
      "\u001b[1;31mValueError\u001b[0m                                Traceback (most recent call last)",
      "Input \u001b[1;32mIn [177]\u001b[0m, in \u001b[0;36m<cell line: 2>\u001b[1;34m()\u001b[0m\n\u001b[0;32m      1\u001b[0m plt\u001b[38;5;241m.\u001b[39mfigure(figsize\u001b[38;5;241m=\u001b[39m(\u001b[38;5;241m12\u001b[39m,\u001b[38;5;241m4\u001b[39m))\n\u001b[1;32m----> 2\u001b[0m \u001b[43mplt\u001b[49m\u001b[38;5;241;43m.\u001b[39;49m\u001b[43mplot\u001b[49m\u001b[43m(\u001b[49m\u001b[43mx_half\u001b[49m\u001b[43m,\u001b[49m\u001b[43m \u001b[49m\u001b[43mpreds_half\u001b[49m\u001b[43m[\u001b[49m\u001b[38;5;241;43m0\u001b[39;49m\u001b[43m:\u001b[49m\u001b[38;5;241;43m100\u001b[39;49m\u001b[43m]\u001b[49m\u001b[43m,\u001b[49m\u001b[43m \u001b[49m\u001b[43mlabel\u001b[49m\u001b[43m \u001b[49m\u001b[38;5;241;43m=\u001b[39;49m\u001b[43m \u001b[49m\u001b[38;5;124;43m\"\u001b[39;49m\u001b[38;5;124;43mPredicted Differential\u001b[39;49m\u001b[38;5;124;43m\"\u001b[39;49m\u001b[43m)\u001b[49m\n\u001b[0;32m      3\u001b[0m plt\u001b[38;5;241m.\u001b[39mplot(x_half, y_test_half[\u001b[38;5;241m0\u001b[39m:\u001b[38;5;241m100\u001b[39m], label \u001b[38;5;241m=\u001b[39m \u001b[38;5;124m\"\u001b[39m\u001b[38;5;124mTrue Differential\u001b[39m\u001b[38;5;124m\"\u001b[39m)\n\u001b[0;32m      4\u001b[0m plt\u001b[38;5;241m.\u001b[39mlegend()\n",
      "File \u001b[1;32m~\\Anaconda\\lib\\site-packages\\matplotlib\\pyplot.py:2757\u001b[0m, in \u001b[0;36mplot\u001b[1;34m(scalex, scaley, data, *args, **kwargs)\u001b[0m\n\u001b[0;32m   2755\u001b[0m \u001b[38;5;129m@_copy_docstring_and_deprecators\u001b[39m(Axes\u001b[38;5;241m.\u001b[39mplot)\n\u001b[0;32m   2756\u001b[0m \u001b[38;5;28;01mdef\u001b[39;00m \u001b[38;5;21mplot\u001b[39m(\u001b[38;5;241m*\u001b[39margs, scalex\u001b[38;5;241m=\u001b[39m\u001b[38;5;28;01mTrue\u001b[39;00m, scaley\u001b[38;5;241m=\u001b[39m\u001b[38;5;28;01mTrue\u001b[39;00m, data\u001b[38;5;241m=\u001b[39m\u001b[38;5;28;01mNone\u001b[39;00m, \u001b[38;5;241m*\u001b[39m\u001b[38;5;241m*\u001b[39mkwargs):\n\u001b[1;32m-> 2757\u001b[0m     \u001b[38;5;28;01mreturn\u001b[39;00m gca()\u001b[38;5;241m.\u001b[39mplot(\n\u001b[0;32m   2758\u001b[0m         \u001b[38;5;241m*\u001b[39margs, scalex\u001b[38;5;241m=\u001b[39mscalex, scaley\u001b[38;5;241m=\u001b[39mscaley,\n\u001b[0;32m   2759\u001b[0m         \u001b[38;5;241m*\u001b[39m\u001b[38;5;241m*\u001b[39m({\u001b[38;5;124m\"\u001b[39m\u001b[38;5;124mdata\u001b[39m\u001b[38;5;124m\"\u001b[39m: data} \u001b[38;5;28;01mif\u001b[39;00m data \u001b[38;5;129;01mis\u001b[39;00m \u001b[38;5;129;01mnot\u001b[39;00m \u001b[38;5;28;01mNone\u001b[39;00m \u001b[38;5;28;01melse\u001b[39;00m {}), \u001b[38;5;241m*\u001b[39m\u001b[38;5;241m*\u001b[39mkwargs)\n",
      "File \u001b[1;32m~\\Anaconda\\lib\\site-packages\\matplotlib\\axes\\_axes.py:1632\u001b[0m, in \u001b[0;36mAxes.plot\u001b[1;34m(self, scalex, scaley, data, *args, **kwargs)\u001b[0m\n\u001b[0;32m   1390\u001b[0m \u001b[38;5;124;03m\"\"\"\u001b[39;00m\n\u001b[0;32m   1391\u001b[0m \u001b[38;5;124;03mPlot y versus x as lines and/or markers.\u001b[39;00m\n\u001b[0;32m   1392\u001b[0m \n\u001b[1;32m   (...)\u001b[0m\n\u001b[0;32m   1629\u001b[0m \u001b[38;5;124;03m(``'green'``) or hex strings (``'#008000'``).\u001b[39;00m\n\u001b[0;32m   1630\u001b[0m \u001b[38;5;124;03m\"\"\"\u001b[39;00m\n\u001b[0;32m   1631\u001b[0m kwargs \u001b[38;5;241m=\u001b[39m cbook\u001b[38;5;241m.\u001b[39mnormalize_kwargs(kwargs, mlines\u001b[38;5;241m.\u001b[39mLine2D)\n\u001b[1;32m-> 1632\u001b[0m lines \u001b[38;5;241m=\u001b[39m [\u001b[38;5;241m*\u001b[39m\u001b[38;5;28mself\u001b[39m\u001b[38;5;241m.\u001b[39m_get_lines(\u001b[38;5;241m*\u001b[39margs, data\u001b[38;5;241m=\u001b[39mdata, \u001b[38;5;241m*\u001b[39m\u001b[38;5;241m*\u001b[39mkwargs)]\n\u001b[0;32m   1633\u001b[0m \u001b[38;5;28;01mfor\u001b[39;00m line \u001b[38;5;129;01min\u001b[39;00m lines:\n\u001b[0;32m   1634\u001b[0m     \u001b[38;5;28mself\u001b[39m\u001b[38;5;241m.\u001b[39madd_line(line)\n",
      "File \u001b[1;32m~\\Anaconda\\lib\\site-packages\\matplotlib\\axes\\_base.py:312\u001b[0m, in \u001b[0;36m_process_plot_var_args.__call__\u001b[1;34m(self, data, *args, **kwargs)\u001b[0m\n\u001b[0;32m    310\u001b[0m     this \u001b[38;5;241m+\u001b[39m\u001b[38;5;241m=\u001b[39m args[\u001b[38;5;241m0\u001b[39m],\n\u001b[0;32m    311\u001b[0m     args \u001b[38;5;241m=\u001b[39m args[\u001b[38;5;241m1\u001b[39m:]\n\u001b[1;32m--> 312\u001b[0m \u001b[38;5;28;01myield from\u001b[39;00m \u001b[38;5;28;43mself\u001b[39;49m\u001b[38;5;241;43m.\u001b[39;49m\u001b[43m_plot_args\u001b[49m\u001b[43m(\u001b[49m\u001b[43mthis\u001b[49m\u001b[43m,\u001b[49m\u001b[43m \u001b[49m\u001b[43mkwargs\u001b[49m\u001b[43m)\u001b[49m\n",
      "File \u001b[1;32m~\\Anaconda\\lib\\site-packages\\matplotlib\\axes\\_base.py:501\u001b[0m, in \u001b[0;36m_process_plot_var_args._plot_args\u001b[1;34m(self, tup, kwargs, return_kwargs)\u001b[0m\n\u001b[0;32m    498\u001b[0m     \u001b[38;5;28;01mraise\u001b[39;00m \u001b[38;5;167;01mValueError\u001b[39;00m(\u001b[38;5;124mf\u001b[39m\u001b[38;5;124m\"\u001b[39m\u001b[38;5;124mx and y must have same first dimension, but \u001b[39m\u001b[38;5;124m\"\u001b[39m\n\u001b[0;32m    499\u001b[0m                      \u001b[38;5;124mf\u001b[39m\u001b[38;5;124m\"\u001b[39m\u001b[38;5;124mhave shapes \u001b[39m\u001b[38;5;132;01m{\u001b[39;00mx\u001b[38;5;241m.\u001b[39mshape\u001b[38;5;132;01m}\u001b[39;00m\u001b[38;5;124m and \u001b[39m\u001b[38;5;132;01m{\u001b[39;00my\u001b[38;5;241m.\u001b[39mshape\u001b[38;5;132;01m}\u001b[39;00m\u001b[38;5;124m\"\u001b[39m)\n\u001b[0;32m    500\u001b[0m \u001b[38;5;28;01mif\u001b[39;00m x\u001b[38;5;241m.\u001b[39mndim \u001b[38;5;241m>\u001b[39m \u001b[38;5;241m2\u001b[39m \u001b[38;5;129;01mor\u001b[39;00m y\u001b[38;5;241m.\u001b[39mndim \u001b[38;5;241m>\u001b[39m \u001b[38;5;241m2\u001b[39m:\n\u001b[1;32m--> 501\u001b[0m     \u001b[38;5;28;01mraise\u001b[39;00m \u001b[38;5;167;01mValueError\u001b[39;00m(\u001b[38;5;124mf\u001b[39m\u001b[38;5;124m\"\u001b[39m\u001b[38;5;124mx and y can be no greater than 2D, but have \u001b[39m\u001b[38;5;124m\"\u001b[39m\n\u001b[0;32m    502\u001b[0m                      \u001b[38;5;124mf\u001b[39m\u001b[38;5;124m\"\u001b[39m\u001b[38;5;124mshapes \u001b[39m\u001b[38;5;132;01m{\u001b[39;00mx\u001b[38;5;241m.\u001b[39mshape\u001b[38;5;132;01m}\u001b[39;00m\u001b[38;5;124m and \u001b[39m\u001b[38;5;132;01m{\u001b[39;00my\u001b[38;5;241m.\u001b[39mshape\u001b[38;5;132;01m}\u001b[39;00m\u001b[38;5;124m\"\u001b[39m)\n\u001b[0;32m    503\u001b[0m \u001b[38;5;28;01mif\u001b[39;00m x\u001b[38;5;241m.\u001b[39mndim \u001b[38;5;241m==\u001b[39m \u001b[38;5;241m1\u001b[39m:\n\u001b[0;32m    504\u001b[0m     x \u001b[38;5;241m=\u001b[39m x[:, np\u001b[38;5;241m.\u001b[39mnewaxis]\n",
      "\u001b[1;31mValueError\u001b[0m: x and y can be no greater than 2D, but have shapes (100,) and (100, 1, 1)"
     ]
    },
    {
     "data": {
      "image/png": "[encoded data removed]",
      "text/plain": [
       "<Figure size 864x288 with 1 Axes>"
      ]
     },
     "metadata": {
      "needs_background": "light"
     },
     "output_type": "display_data"
    }
   ],
   "source": [
    "plt.figure(figsize=(12,4))\n",
    "plt.plot(x_half, preds_half[0:100], label = \"Predicted Differential\")\n",
    "plt.plot(x_half, y_test_half[0:100], label = \"True Differential\")\n",
    "plt.legend()\n",
    "plt.show()"
   ]
  },
  {
   "cell_type": "code",
   "execution_count": null,
   "id": "09a58df9",
   "metadata": {},
   "outputs": [],
   "source": [
    "plt.figure(figsize=(12,4))\n",
    "plt.plot(x_full, preds_full[0:750], label = \"Predicted Differential\")\n",
    "plt.plot(x_full, y_test_full[0:750], label = \"True Differential\")\n",
    "plt.legend()\n",
    "plt.show()"
   ]
  },
  {
   "cell_type": "code",
   "execution_count": null,
   "id": "4353a5fa",
   "metadata": {},
   "outputs": [],
   "source": []
  }
 ],
 "metadata": {
  "kernelspec": {
   "display_name": "Python 3 (ipykernel)",
   "language": "python",
   "name": "python3"
  },
  "language_info": {
   "codemirror_mode": {
    "name": "ipython",
    "version": 3
   },
   "file_extension": ".py",
   "mimetype": "text/x-python",
   "name": "python",
   "nbconvert_exporter": "python",
   "pygments_lexer": "ipython3",
   "version": "3.9.12"
  }
 },
 "nbformat": 4,
 "nbformat_minor": 5
}
